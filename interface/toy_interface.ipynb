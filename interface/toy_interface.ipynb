{
  "nbformat": 4,
  "nbformat_minor": 0,
  "metadata": {
    "colab": {
      "name": "toy_interface.ipynb",
      "provenance": []
    },
    "kernelspec": {
      "name": "python3",
      "display_name": "Python 3"
    },
    "widgets": {
      "application/vnd.jupyter.widget-state+json": {
        "a7214edd013d4eeb989fe8f8f2af2329": {
          "model_module": "@jupyter-widgets/controls",
          "model_name": "BoundedIntTextModel",
          "state": {
            "_view_name": "IntTextView",
            "style": "IPY_MODEL_3538f1285a2e44a994aa82d5c0484b01",
            "_dom_classes": [],
            "description": "Enter a number between 1 and 348:",
            "_model_name": "BoundedIntTextModel",
            "max": 348,
            "_view_module": "@jupyter-widgets/controls",
            "_model_module_version": "1.5.0",
            "value": 56,
            "_view_count": null,
            "disabled": false,
            "_view_module_version": "1.5.0",
            "min": 0,
            "continuous_update": false,
            "step": 1,
            "description_tooltip": null,
            "_model_module": "@jupyter-widgets/controls",
            "layout": "IPY_MODEL_264fd001e0074761b8aec0ed1a1f131f"
          }
        },
        "3538f1285a2e44a994aa82d5c0484b01": {
          "model_module": "@jupyter-widgets/controls",
          "model_name": "DescriptionStyleModel",
          "state": {
            "_view_name": "StyleView",
            "_model_name": "DescriptionStyleModel",
            "description_width": "initial",
            "_view_module": "@jupyter-widgets/base",
            "_model_module_version": "1.5.0",
            "_view_count": null,
            "_view_module_version": "1.2.0",
            "_model_module": "@jupyter-widgets/controls"
          }
        },
        "264fd001e0074761b8aec0ed1a1f131f": {
          "model_module": "@jupyter-widgets/base",
          "model_name": "LayoutModel",
          "state": {
            "_view_name": "LayoutView",
            "grid_template_rows": null,
            "right": null,
            "justify_content": null,
            "_view_module": "@jupyter-widgets/base",
            "overflow": null,
            "_model_module_version": "1.2.0",
            "_view_count": null,
            "flex_flow": null,
            "width": null,
            "min_width": null,
            "border": null,
            "align_items": null,
            "bottom": null,
            "_model_module": "@jupyter-widgets/base",
            "top": null,
            "grid_column": null,
            "overflow_y": null,
            "overflow_x": null,
            "grid_auto_flow": null,
            "grid_area": null,
            "grid_template_columns": null,
            "flex": null,
            "_model_name": "LayoutModel",
            "justify_items": null,
            "grid_row": null,
            "max_height": null,
            "align_content": null,
            "visibility": null,
            "align_self": null,
            "height": null,
            "min_height": null,
            "padding": null,
            "grid_auto_rows": null,
            "grid_gap": null,
            "max_width": null,
            "order": null,
            "_view_module_version": "1.2.0",
            "grid_template_areas": null,
            "object_position": null,
            "object_fit": null,
            "grid_auto_columns": null,
            "margin": null,
            "display": null,
            "left": null
          }
        },
        "10b8ac7e897c4539aac8c081b93cdf90": {
          "model_module": "@jupyter-widgets/controls",
          "model_name": "DropdownModel",
          "state": {
            "_options_labels": [
              "CVPR",
              "ECCV",
              "ICCV",
              "ICLR",
              "ICML",
              "ICRA",
              "IJCAI",
              "IROS",
              "JMLR",
              "KDD",
              "NIPS",
              "NeurIPS",
              "TKDE",
              "TPAMI"
            ],
            "_view_name": "DropdownView",
            "style": "IPY_MODEL_2f945eb3f007425698c05f4c80847094",
            "_dom_classes": [],
            "description": "Venue:",
            "_model_name": "DropdownModel",
            "index": 0,
            "_view_module": "@jupyter-widgets/controls",
            "_model_module_version": "1.5.0",
            "_view_count": null,
            "disabled": false,
            "_view_module_version": "1.5.0",
            "description_tooltip": null,
            "_model_module": "@jupyter-widgets/controls",
            "layout": "IPY_MODEL_b619741c16324b9aa98b2e59762a47be"
          }
        },
        "2f945eb3f007425698c05f4c80847094": {
          "model_module": "@jupyter-widgets/controls",
          "model_name": "DescriptionStyleModel",
          "state": {
            "_view_name": "StyleView",
            "_model_name": "DescriptionStyleModel",
            "description_width": "",
            "_view_module": "@jupyter-widgets/base",
            "_model_module_version": "1.5.0",
            "_view_count": null,
            "_view_module_version": "1.2.0",
            "_model_module": "@jupyter-widgets/controls"
          }
        },
        "b619741c16324b9aa98b2e59762a47be": {
          "model_module": "@jupyter-widgets/base",
          "model_name": "LayoutModel",
          "state": {
            "_view_name": "LayoutView",
            "grid_template_rows": null,
            "right": null,
            "justify_content": null,
            "_view_module": "@jupyter-widgets/base",
            "overflow": null,
            "_model_module_version": "1.2.0",
            "_view_count": null,
            "flex_flow": null,
            "width": null,
            "min_width": null,
            "border": null,
            "align_items": null,
            "bottom": null,
            "_model_module": "@jupyter-widgets/base",
            "top": null,
            "grid_column": null,
            "overflow_y": null,
            "overflow_x": null,
            "grid_auto_flow": null,
            "grid_area": null,
            "grid_template_columns": null,
            "flex": null,
            "_model_name": "LayoutModel",
            "justify_items": null,
            "grid_row": null,
            "max_height": null,
            "align_content": null,
            "visibility": null,
            "align_self": null,
            "height": null,
            "min_height": null,
            "padding": null,
            "grid_auto_rows": null,
            "grid_gap": null,
            "max_width": null,
            "order": null,
            "_view_module_version": "1.2.0",
            "grid_template_areas": null,
            "object_position": null,
            "object_fit": null,
            "grid_auto_columns": null,
            "margin": null,
            "display": null,
            "left": null
          }
        },
        "59d5224c8b884f2abcdc6239d92917f4": {
          "model_module": "@jupyter-widgets/controls",
          "model_name": "SelectMultipleModel",
          "state": {
            "_options_labels": [
              "CVPR",
              "ECCV",
              "ICCV",
              "ICLR",
              "ICML",
              "ICRA",
              "IJCAI",
              "IROS",
              "JMLR",
              "KDD",
              "NIPS",
              "NeurIPS",
              "TKDE",
              "TPAMI"
            ],
            "_view_name": "SelectMultipleView",
            "style": "IPY_MODEL_df0d1fbadead4771b5b8236cd6334f0b",
            "rows": 5,
            "_dom_classes": [],
            "description": "Venue",
            "_model_name": "SelectMultipleModel",
            "index": [
              4,
              5,
              6,
              7,
              8,
              9,
              10,
              11,
              12,
              13
            ],
            "_view_module": "@jupyter-widgets/controls",
            "_model_module_version": "1.5.0",
            "_view_count": null,
            "disabled": false,
            "_view_module_version": "1.5.0",
            "description_tooltip": null,
            "_model_module": "@jupyter-widgets/controls",
            "layout": "IPY_MODEL_c82dfaf0a2864b08a318068cba5ed04c"
          }
        },
        "df0d1fbadead4771b5b8236cd6334f0b": {
          "model_module": "@jupyter-widgets/controls",
          "model_name": "DescriptionStyleModel",
          "state": {
            "_view_name": "StyleView",
            "_model_name": "DescriptionStyleModel",
            "description_width": "",
            "_view_module": "@jupyter-widgets/base",
            "_model_module_version": "1.5.0",
            "_view_count": null,
            "_view_module_version": "1.2.0",
            "_model_module": "@jupyter-widgets/controls"
          }
        },
        "c82dfaf0a2864b08a318068cba5ed04c": {
          "model_module": "@jupyter-widgets/base",
          "model_name": "LayoutModel",
          "state": {
            "_view_name": "LayoutView",
            "grid_template_rows": null,
            "right": null,
            "justify_content": null,
            "_view_module": "@jupyter-widgets/base",
            "overflow": null,
            "_model_module_version": "1.2.0",
            "_view_count": null,
            "flex_flow": null,
            "width": null,
            "min_width": null,
            "border": null,
            "align_items": null,
            "bottom": null,
            "_model_module": "@jupyter-widgets/base",
            "top": null,
            "grid_column": null,
            "overflow_y": null,
            "overflow_x": null,
            "grid_auto_flow": null,
            "grid_area": null,
            "grid_template_columns": null,
            "flex": null,
            "_model_name": "LayoutModel",
            "justify_items": null,
            "grid_row": null,
            "max_height": null,
            "align_content": null,
            "visibility": null,
            "align_self": null,
            "height": null,
            "min_height": null,
            "padding": null,
            "grid_auto_rows": null,
            "grid_gap": null,
            "max_width": null,
            "order": null,
            "_view_module_version": "1.2.0",
            "grid_template_areas": null,
            "object_position": null,
            "object_fit": null,
            "grid_auto_columns": null,
            "margin": null,
            "display": null,
            "left": null
          }
        }
      }
    }
  },
  "cells": [
    {
      "cell_type": "markdown",
      "metadata": {
        "id": "oe-DPjxQAvIp",
        "colab_type": "text"
      },
      "source": [
        "#Table of Contents\n",
        "1.  [By Total Count](#first-bullet)\n",
        "2. [By Count in a single venue](#second-bullet)\n",
        "3. [By Total Count in a Set of Venues](#third-bullet)\n",
        "4. [By Total Counts in Two Sets of Venues](#fourth-bullet)\n",
        "5. [By H-Index (under construction)](#fifth-bullet)\n",
        "6. [Combination of any of the above? (or add a full dashboard](#sixth-bullet)\n",
        "\n"
      ]
    },
    {
      "cell_type": "markdown",
      "metadata": {
        "id": "5TScW0enGZNJ",
        "colab_type": "text"
      },
      "source": [
        "#Setting Up and Reading in the Database"
      ]
    },
    {
      "cell_type": "code",
      "metadata": {
        "id": "Dopnetl00RfP",
        "colab_type": "code",
        "colab": {
          "base_uri": "https://localhost:8080/",
          "height": 676
        },
        "outputId": "00463966-7666-47d6-a8b4-2723be2448b5"
      },
      "source": [
        "!pip install ipywidgets\n",
        "!jupyter nbextension enable --py widgetsnbextension"
      ],
      "execution_count": 574,
      "outputs": [
        {
          "output_type": "stream",
          "text": [
            "Requirement already satisfied: ipywidgets in /usr/local/lib/python3.6/dist-packages (7.5.1)\n",
            "Requirement already satisfied: nbformat>=4.2.0 in /usr/local/lib/python3.6/dist-packages (from ipywidgets) (5.0.6)\n",
            "Requirement already satisfied: traitlets>=4.3.1 in /usr/local/lib/python3.6/dist-packages (from ipywidgets) (4.3.3)\n",
            "Requirement already satisfied: widgetsnbextension~=3.5.0 in /usr/local/lib/python3.6/dist-packages (from ipywidgets) (3.5.1)\n",
            "Requirement already satisfied: ipykernel>=4.5.1 in /usr/local/lib/python3.6/dist-packages (from ipywidgets) (4.10.1)\n",
            "Requirement already satisfied: ipython>=4.0.0; python_version >= \"3.3\" in /usr/local/lib/python3.6/dist-packages (from ipywidgets) (5.5.0)\n",
            "Requirement already satisfied: ipython-genutils in /usr/local/lib/python3.6/dist-packages (from nbformat>=4.2.0->ipywidgets) (0.2.0)\n",
            "Requirement already satisfied: jsonschema!=2.5.0,>=2.4 in /usr/local/lib/python3.6/dist-packages (from nbformat>=4.2.0->ipywidgets) (2.6.0)\n",
            "Requirement already satisfied: jupyter-core in /usr/local/lib/python3.6/dist-packages (from nbformat>=4.2.0->ipywidgets) (4.6.3)\n",
            "Requirement already satisfied: six in /usr/local/lib/python3.6/dist-packages (from traitlets>=4.3.1->ipywidgets) (1.12.0)\n",
            "Requirement already satisfied: decorator in /usr/local/lib/python3.6/dist-packages (from traitlets>=4.3.1->ipywidgets) (4.4.2)\n",
            "Requirement already satisfied: notebook>=4.4.1 in /usr/local/lib/python3.6/dist-packages (from widgetsnbextension~=3.5.0->ipywidgets) (5.2.2)\n",
            "Requirement already satisfied: jupyter-client in /usr/local/lib/python3.6/dist-packages (from ipykernel>=4.5.1->ipywidgets) (5.3.4)\n",
            "Requirement already satisfied: tornado>=4.0 in /usr/local/lib/python3.6/dist-packages (from ipykernel>=4.5.1->ipywidgets) (4.5.3)\n",
            "Requirement already satisfied: prompt-toolkit<2.0.0,>=1.0.4 in /usr/local/lib/python3.6/dist-packages (from ipython>=4.0.0; python_version >= \"3.3\"->ipywidgets) (1.0.18)\n",
            "Requirement already satisfied: pexpect; sys_platform != \"win32\" in /usr/local/lib/python3.6/dist-packages (from ipython>=4.0.0; python_version >= \"3.3\"->ipywidgets) (4.8.0)\n",
            "Requirement already satisfied: pickleshare in /usr/local/lib/python3.6/dist-packages (from ipython>=4.0.0; python_version >= \"3.3\"->ipywidgets) (0.7.5)\n",
            "Requirement already satisfied: setuptools>=18.5 in /usr/local/lib/python3.6/dist-packages (from ipython>=4.0.0; python_version >= \"3.3\"->ipywidgets) (46.1.3)\n",
            "Requirement already satisfied: pygments in /usr/local/lib/python3.6/dist-packages (from ipython>=4.0.0; python_version >= \"3.3\"->ipywidgets) (2.1.3)\n",
            "Requirement already satisfied: simplegeneric>0.8 in /usr/local/lib/python3.6/dist-packages (from ipython>=4.0.0; python_version >= \"3.3\"->ipywidgets) (0.8.1)\n",
            "Requirement already satisfied: jinja2 in /usr/local/lib/python3.6/dist-packages (from notebook>=4.4.1->widgetsnbextension~=3.5.0->ipywidgets) (2.11.2)\n",
            "Requirement already satisfied: terminado>=0.3.3; sys_platform != \"win32\" in /usr/local/lib/python3.6/dist-packages (from notebook>=4.4.1->widgetsnbextension~=3.5.0->ipywidgets) (0.8.3)\n",
            "Requirement already satisfied: nbconvert in /usr/local/lib/python3.6/dist-packages (from notebook>=4.4.1->widgetsnbextension~=3.5.0->ipywidgets) (5.6.1)\n",
            "Requirement already satisfied: python-dateutil>=2.1 in /usr/local/lib/python3.6/dist-packages (from jupyter-client->ipykernel>=4.5.1->ipywidgets) (2.8.1)\n",
            "Requirement already satisfied: pyzmq>=13 in /usr/local/lib/python3.6/dist-packages (from jupyter-client->ipykernel>=4.5.1->ipywidgets) (19.0.0)\n",
            "Requirement already satisfied: wcwidth in /usr/local/lib/python3.6/dist-packages (from prompt-toolkit<2.0.0,>=1.0.4->ipython>=4.0.0; python_version >= \"3.3\"->ipywidgets) (0.1.9)\n",
            "Requirement already satisfied: ptyprocess>=0.5 in /usr/local/lib/python3.6/dist-packages (from pexpect; sys_platform != \"win32\"->ipython>=4.0.0; python_version >= \"3.3\"->ipywidgets) (0.6.0)\n",
            "Requirement already satisfied: MarkupSafe>=0.23 in /usr/local/lib/python3.6/dist-packages (from jinja2->notebook>=4.4.1->widgetsnbextension~=3.5.0->ipywidgets) (1.1.1)\n",
            "Requirement already satisfied: entrypoints>=0.2.2 in /usr/local/lib/python3.6/dist-packages (from nbconvert->notebook>=4.4.1->widgetsnbextension~=3.5.0->ipywidgets) (0.3)\n",
            "Requirement already satisfied: defusedxml in /usr/local/lib/python3.6/dist-packages (from nbconvert->notebook>=4.4.1->widgetsnbextension~=3.5.0->ipywidgets) (0.6.0)\n",
            "Requirement already satisfied: pandocfilters>=1.4.1 in /usr/local/lib/python3.6/dist-packages (from nbconvert->notebook>=4.4.1->widgetsnbextension~=3.5.0->ipywidgets) (1.4.2)\n",
            "Requirement already satisfied: bleach in /usr/local/lib/python3.6/dist-packages (from nbconvert->notebook>=4.4.1->widgetsnbextension~=3.5.0->ipywidgets) (3.1.4)\n",
            "Requirement already satisfied: testpath in /usr/local/lib/python3.6/dist-packages (from nbconvert->notebook>=4.4.1->widgetsnbextension~=3.5.0->ipywidgets) (0.4.4)\n",
            "Requirement already satisfied: mistune<2,>=0.8.1 in /usr/local/lib/python3.6/dist-packages (from nbconvert->notebook>=4.4.1->widgetsnbextension~=3.5.0->ipywidgets) (0.8.4)\n",
            "Requirement already satisfied: webencodings in /usr/local/lib/python3.6/dist-packages (from bleach->nbconvert->notebook>=4.4.1->widgetsnbextension~=3.5.0->ipywidgets) (0.5.1)\n",
            "Enabling notebook extension jupyter-js-widgets/extension...\n",
            "      - Validating: \u001b[32mOK\u001b[0m\n"
          ],
          "name": "stdout"
        }
      ]
    },
    {
      "cell_type": "code",
      "metadata": {
        "id": "ixQ4RoCWuL8H",
        "colab_type": "code",
        "colab": {}
      },
      "source": [
        "import pandas as pd\n",
        "import numpy as np\n",
        "import time\n",
        "import ipywidgets as widgets\n",
        "from IPython.display import display\n",
        "from IPython.display import HTML\n",
        "from google.colab import files"
      ],
      "execution_count": 0,
      "outputs": []
    },
    {
      "cell_type": "code",
      "metadata": {
        "id": "gUVhnqN3tbLs",
        "colab_type": "code",
        "colab": {}
      },
      "source": [
        "class Config:\n",
        "    def __init__(self, args=None):\n",
        "        \"\"\"Creates a default configuration.\"\"\"\n",
        "        self.MAIN_DB_URL = 'https://raw.githubusercontent.com/porcelluscavia/prof-names-counter/master/full_database_maker/data/full1.csv'"
      ],
      "execution_count": 0,
      "outputs": []
    },
    {
      "cell_type": "code",
      "metadata": {
        "id": "pJ5Zl7bPuyLr",
        "colab_type": "code",
        "colab": {}
      },
      "source": [
        "def prepare_data(config, phase = 'main_db'):\n",
        "    if phase == 'main_db':\n",
        "        infile = config.MAIN_DB_URL\n",
        "    # elif phase == 'alt_db':\n",
        "    #     infile = config.ALT_DB_URL\n",
        "    df = pd.read_csv(infile, encoding='utf8')\n",
        "    return df"
      ],
      "execution_count": 0,
      "outputs": []
    },
    {
      "cell_type": "markdown",
      "metadata": {
        "id": "mSguLnsdbexd",
        "colab_type": "text"
      },
      "source": [
        "#Check first 5 entries of database "
      ]
    },
    {
      "cell_type": "code",
      "metadata": {
        "id": "PmRqwIUvvd8m",
        "colab_type": "code",
        "colab": {
          "base_uri": "https://localhost:8080/",
          "height": 198
        },
        "outputId": "6701c5b6-4698-4932-92ee-b78eabaa334c"
      },
      "source": [
        "config = Config()\n",
        "df = prepare_data(config)\n",
        "max_count = df['count'].max()\n",
        "df.head()\n",
        "#at some point, make df in all caps"
      ],
      "execution_count": 578,
      "outputs": [
        {
          "output_type": "execute_result",
          "data": {
            "text/html": [
              "<div>\n",
              "<style scoped>\n",
              "    .dataframe tbody tr th:only-of-type {\n",
              "        vertical-align: middle;\n",
              "    }\n",
              "\n",
              "    .dataframe tbody tr th {\n",
              "        vertical-align: top;\n",
              "    }\n",
              "\n",
              "    .dataframe thead th {\n",
              "        text-align: right;\n",
              "    }\n",
              "</style>\n",
              "<table border=\"1\" class=\"dataframe\">\n",
              "  <thead>\n",
              "    <tr style=\"text-align: right;\">\n",
              "      <th></th>\n",
              "      <th>Author</th>\n",
              "      <th>count</th>\n",
              "      <th>TPAMI</th>\n",
              "      <th>TKDE</th>\n",
              "      <th>JMLR</th>\n",
              "      <th>NeurIPS</th>\n",
              "      <th>NIPS</th>\n",
              "      <th>ICLR</th>\n",
              "      <th>CVPR</th>\n",
              "      <th>ECCV</th>\n",
              "      <th>ICCV</th>\n",
              "      <th>ICRA</th>\n",
              "      <th>IROS</th>\n",
              "      <th>IJCAI</th>\n",
              "      <th>KDD</th>\n",
              "      <th>ICML</th>\n",
              "      <th>Year</th>\n",
              "    </tr>\n",
              "  </thead>\n",
              "  <tbody>\n",
              "    <tr>\n",
              "      <th>0</th>\n",
              "      <td>A-Xing Zhu</td>\n",
              "      <td>1</td>\n",
              "      <td>0</td>\n",
              "      <td>1</td>\n",
              "      <td>0</td>\n",
              "      <td>0</td>\n",
              "      <td>0</td>\n",
              "      <td>0</td>\n",
              "      <td>0</td>\n",
              "      <td>0</td>\n",
              "      <td>0</td>\n",
              "      <td>0</td>\n",
              "      <td>0</td>\n",
              "      <td>0</td>\n",
              "      <td>0</td>\n",
              "      <td>0</td>\n",
              "      <td>TKDE2015</td>\n",
              "    </tr>\n",
              "    <tr>\n",
              "      <th>1</th>\n",
              "      <td>A. A. Clark</td>\n",
              "      <td>1</td>\n",
              "      <td>0</td>\n",
              "      <td>0</td>\n",
              "      <td>0</td>\n",
              "      <td>0</td>\n",
              "      <td>0</td>\n",
              "      <td>0</td>\n",
              "      <td>1</td>\n",
              "      <td>0</td>\n",
              "      <td>0</td>\n",
              "      <td>0</td>\n",
              "      <td>0</td>\n",
              "      <td>0</td>\n",
              "      <td>0</td>\n",
              "      <td>0</td>\n",
              "      <td>CVPR2001</td>\n",
              "    </tr>\n",
              "    <tr>\n",
              "      <th>2</th>\n",
              "      <td>A. A. W. Smith</td>\n",
              "      <td>1</td>\n",
              "      <td>0</td>\n",
              "      <td>0</td>\n",
              "      <td>0</td>\n",
              "      <td>0</td>\n",
              "      <td>0</td>\n",
              "      <td>0</td>\n",
              "      <td>0</td>\n",
              "      <td>1</td>\n",
              "      <td>0</td>\n",
              "      <td>0</td>\n",
              "      <td>0</td>\n",
              "      <td>0</td>\n",
              "      <td>0</td>\n",
              "      <td>0</td>\n",
              "      <td>ECCV2000</td>\n",
              "    </tr>\n",
              "    <tr>\n",
              "      <th>3</th>\n",
              "      <td>A. Abi-ayad</td>\n",
              "      <td>1</td>\n",
              "      <td>0</td>\n",
              "      <td>0</td>\n",
              "      <td>0</td>\n",
              "      <td>0</td>\n",
              "      <td>0</td>\n",
              "      <td>0</td>\n",
              "      <td>0</td>\n",
              "      <td>0</td>\n",
              "      <td>0</td>\n",
              "      <td>0</td>\n",
              "      <td>1</td>\n",
              "      <td>0</td>\n",
              "      <td>0</td>\n",
              "      <td>0</td>\n",
              "      <td>IROS1988</td>\n",
              "    </tr>\n",
              "    <tr>\n",
              "      <th>4</th>\n",
              "      <td>A. Adam Ding</td>\n",
              "      <td>1</td>\n",
              "      <td>0</td>\n",
              "      <td>0</td>\n",
              "      <td>1</td>\n",
              "      <td>0</td>\n",
              "      <td>0</td>\n",
              "      <td>0</td>\n",
              "      <td>0</td>\n",
              "      <td>0</td>\n",
              "      <td>0</td>\n",
              "      <td>0</td>\n",
              "      <td>0</td>\n",
              "      <td>0</td>\n",
              "      <td>0</td>\n",
              "      <td>0</td>\n",
              "      <td>JMLR2017</td>\n",
              "    </tr>\n",
              "  </tbody>\n",
              "</table>\n",
              "</div>"
            ],
            "text/plain": [
              "           Author  count  TPAMI  TKDE  JMLR  ...  IROS  IJCAI  KDD  ICML      Year\n",
              "0      A-Xing Zhu      1      0     1     0  ...     0      0    0     0  TKDE2015\n",
              "1     A. A. Clark      1      0     0     0  ...     0      0    0     0  CVPR2001\n",
              "2  A. A. W. Smith      1      0     0     0  ...     0      0    0     0  ECCV2000\n",
              "3     A. Abi-ayad      1      0     0     0  ...     1      0    0     0  IROS1988\n",
              "4    A. Adam Ding      1      0     0     1  ...     0      0    0     0  JMLR2017\n",
              "\n",
              "[5 rows x 17 columns]"
            ]
          },
          "metadata": {
            "tags": []
          },
          "execution_count": 578
        }
      ]
    },
    {
      "cell_type": "markdown",
      "metadata": {
        "id": "3MOMzz1O9LOa",
        "colab_type": "text"
      },
      "source": [
        "<a name=\"first-bullet\"></a> \n",
        "#By Total Count\n",
        "\n",
        "Generate a list of researchers based solely on their total publication count"
      ]
    },
    {
      "cell_type": "markdown",
      "metadata": {
        "id": "sU5aNBEK3zOb",
        "colab_type": "text"
      },
      "source": [
        "####1. Code (ignore)"
      ]
    },
    {
      "cell_type": "code",
      "metadata": {
        "id": "wSzrbqPW-cYg",
        "colab_type": "code",
        "colab": {}
      },
      "source": [
        "style = {'description_width': 'initial'}\n",
        "int_text = widgets.BoundedIntText(\n",
        "    value=0,\n",
        "    min=0, \n",
        "    max= max_count,\n",
        "    step=1,\n",
        "    description='Enter a number between 1 and ' + str(max_count) + ':',\n",
        "    disabled=False, style=style\n",
        ")"
      ],
      "execution_count": 0,
      "outputs": []
    },
    {
      "cell_type": "code",
      "metadata": {
        "id": "aBUztq5emIGL",
        "colab_type": "code",
        "colab": {}
      },
      "source": [
        "output = widgets.Output()"
      ],
      "execution_count": 0,
      "outputs": []
    },
    {
      "cell_type": "code",
      "metadata": {
        "id": "ZxstsJkQmPyq",
        "colab_type": "code",
        "colab": {}
      },
      "source": [
        "def int_text_eventhandler(change):\n",
        "  output.clear_output()\n",
        "  number = change['new']\n",
        "  new_df = df.loc[df['count'] == number]\n",
        "  display(new_df.head(), \"Your query returned \" + str(new_df.shape[0]) + \" unique researchers. Download below if you'd like to see them all.\")"
      ],
      "execution_count": 0,
      "outputs": []
    },
    {
      "cell_type": "code",
      "metadata": {
        "id": "b3O78XFI8fQl",
        "colab_type": "code",
        "colab": {}
      },
      "source": [
        "def prepare_for_download(df, value, action_str=\"total_count\"):\n",
        "    now = time.strftime(\"%Y%m%d-%H%M%S\", time.localtime())\n",
        "    file_name = action_str + '_' + str(value) + '_' + now + '.csv'\n",
        "    if action_str == \"total_count\":\n",
        "      new_df = df.loc[df['count'] == value]\n",
        "    new_df.to_csv(file_name, encoding='utf-8', index=False)\n",
        "    return file_name"
      ],
      "execution_count": 0,
      "outputs": []
    },
    {
      "cell_type": "code",
      "metadata": {
        "id": "PS_CvC1jiyzc",
        "colab_type": "code",
        "colab": {}
      },
      "source": [
        "int_text.observe(int_text_eventhandler, names='value')"
      ],
      "execution_count": 0,
      "outputs": []
    },
    {
      "cell_type": "markdown",
      "metadata": {
        "id": "ir-p88SrYDD9",
        "colab_type": "text"
      },
      "source": [
        ""
      ]
    },
    {
      "cell_type": "markdown",
      "metadata": {
        "id": "veRFZNxk3orY",
        "colab_type": "text"
      },
      "source": [
        "##2. Tool (use this!)\n",
        "**A result will only be generated if you enter a query that returns a result within the database**\n",
        "\n",
        "Tip: Click outside the box after entering your number"
      ]
    },
    {
      "cell_type": "code",
      "metadata": {
        "id": "uC2HLHYbiziF",
        "colab_type": "code",
        "colab": {
          "base_uri": "https://localhost:8080/",
          "height": 247,
          "referenced_widgets": [
            "a7214edd013d4eeb989fe8f8f2af2329",
            "3538f1285a2e44a994aa82d5c0484b01",
            "264fd001e0074761b8aec0ed1a1f131f"
          ]
        },
        "outputId": "844d341c-39a3-45ab-f182-ef6f33068b11"
      },
      "source": [
        "display(int_text)"
      ],
      "execution_count": 584,
      "outputs": [
        {
          "output_type": "display_data",
          "data": {
            "application/vnd.jupyter.widget-view+json": {
              "model_id": "a7214edd013d4eeb989fe8f8f2af2329",
              "version_minor": 0,
              "version_major": 2
            },
            "text/plain": [
              "BoundedIntText(value=0, description='Enter a number between 1 and 348:', max=348, style=DescriptionStyle(descr…"
            ]
          },
          "metadata": {
            "tags": []
          }
        },
        {
          "output_type": "display_data",
          "data": {
            "text/html": [
              "<div>\n",
              "<style scoped>\n",
              "    .dataframe tbody tr th:only-of-type {\n",
              "        vertical-align: middle;\n",
              "    }\n",
              "\n",
              "    .dataframe tbody tr th {\n",
              "        vertical-align: top;\n",
              "    }\n",
              "\n",
              "    .dataframe thead th {\n",
              "        text-align: right;\n",
              "    }\n",
              "</style>\n",
              "<table border=\"1\" class=\"dataframe\">\n",
              "  <thead>\n",
              "    <tr style=\"text-align: right;\">\n",
              "      <th></th>\n",
              "      <th>Author</th>\n",
              "      <th>count</th>\n",
              "      <th>TPAMI</th>\n",
              "      <th>TKDE</th>\n",
              "      <th>JMLR</th>\n",
              "      <th>NeurIPS</th>\n",
              "      <th>NIPS</th>\n",
              "      <th>ICLR</th>\n",
              "      <th>CVPR</th>\n",
              "      <th>ECCV</th>\n",
              "      <th>ICCV</th>\n",
              "      <th>ICRA</th>\n",
              "      <th>IROS</th>\n",
              "      <th>IJCAI</th>\n",
              "      <th>KDD</th>\n",
              "      <th>ICML</th>\n",
              "      <th>Year</th>\n",
              "    </tr>\n",
              "  </thead>\n",
              "  <tbody>\n",
              "    <tr>\n",
              "      <th>374</th>\n",
              "      <td>Aaron M. Dollar</td>\n",
              "      <td>56</td>\n",
              "      <td>0</td>\n",
              "      <td>0</td>\n",
              "      <td>0</td>\n",
              "      <td>0</td>\n",
              "      <td>0</td>\n",
              "      <td>0</td>\n",
              "      <td>0</td>\n",
              "      <td>0</td>\n",
              "      <td>0</td>\n",
              "      <td>34</td>\n",
              "      <td>22</td>\n",
              "      <td>0</td>\n",
              "      <td>0</td>\n",
              "      <td>0</td>\n",
              "      <td>ICRA2011,IROS2017,ICRA2014,IROS2019,ICRA2016,I...</td>\n",
              "    </tr>\n",
              "    <tr>\n",
              "      <th>506</th>\n",
              "      <td>Abderrahmane Kheddar</td>\n",
              "      <td>56</td>\n",
              "      <td>0</td>\n",
              "      <td>0</td>\n",
              "      <td>0</td>\n",
              "      <td>0</td>\n",
              "      <td>0</td>\n",
              "      <td>0</td>\n",
              "      <td>1</td>\n",
              "      <td>0</td>\n",
              "      <td>0</td>\n",
              "      <td>22</td>\n",
              "      <td>33</td>\n",
              "      <td>0</td>\n",
              "      <td>0</td>\n",
              "      <td>0</td>\n",
              "      <td>ICRA2007,ICRA2014,IROS2009,ICRA2018,IROS2008,I...</td>\n",
              "    </tr>\n",
              "    <tr>\n",
              "      <th>6941</th>\n",
              "      <td>Arthur Gretton</td>\n",
              "      <td>56</td>\n",
              "      <td>0</td>\n",
              "      <td>0</td>\n",
              "      <td>10</td>\n",
              "      <td>6</td>\n",
              "      <td>22</td>\n",
              "      <td>3</td>\n",
              "      <td>0</td>\n",
              "      <td>0</td>\n",
              "      <td>0</td>\n",
              "      <td>0</td>\n",
              "      <td>0</td>\n",
              "      <td>0</td>\n",
              "      <td>0</td>\n",
              "      <td>15</td>\n",
              "      <td>NIPS2003,NIPS2009,ICML2014,NeurIPS2019,NIPS201...</td>\n",
              "    </tr>\n",
              "    <tr>\n",
              "      <th>10781</th>\n",
              "      <td>Bruno Siciliano</td>\n",
              "      <td>56</td>\n",
              "      <td>0</td>\n",
              "      <td>0</td>\n",
              "      <td>0</td>\n",
              "      <td>0</td>\n",
              "      <td>0</td>\n",
              "      <td>0</td>\n",
              "      <td>0</td>\n",
              "      <td>0</td>\n",
              "      <td>0</td>\n",
              "      <td>32</td>\n",
              "      <td>24</td>\n",
              "      <td>0</td>\n",
              "      <td>0</td>\n",
              "      <td>0</td>\n",
              "      <td>IROS2002,IROS2018,ICRA2005,ICRA2003,IROS2013,I...</td>\n",
              "    </tr>\n",
              "    <tr>\n",
              "      <th>21453</th>\n",
              "      <td>Edwin R. Hancock</td>\n",
              "      <td>56</td>\n",
              "      <td>0</td>\n",
              "      <td>0</td>\n",
              "      <td>0</td>\n",
              "      <td>0</td>\n",
              "      <td>5</td>\n",
              "      <td>0</td>\n",
              "      <td>24</td>\n",
              "      <td>13</td>\n",
              "      <td>11</td>\n",
              "      <td>0</td>\n",
              "      <td>0</td>\n",
              "      <td>2</td>\n",
              "      <td>0</td>\n",
              "      <td>1</td>\n",
              "      <td>NIPS1996,CVPR2006,ECCV1998,CVPR2007,NIPS1998,N...</td>\n",
              "    </tr>\n",
              "  </tbody>\n",
              "</table>\n",
              "</div>"
            ],
            "text/plain": [
              "                     Author  ...                                               Year\n",
              "374         Aaron M. Dollar  ...  ICRA2011,IROS2017,ICRA2014,IROS2019,ICRA2016,I...\n",
              "506    Abderrahmane Kheddar  ...  ICRA2007,ICRA2014,IROS2009,ICRA2018,IROS2008,I...\n",
              "6941         Arthur Gretton  ...  NIPS2003,NIPS2009,ICML2014,NeurIPS2019,NIPS201...\n",
              "10781       Bruno Siciliano  ...  IROS2002,IROS2018,ICRA2005,ICRA2003,IROS2013,I...\n",
              "21453      Edwin R. Hancock  ...  NIPS1996,CVPR2006,ECCV1998,CVPR2007,NIPS1998,N...\n",
              "\n",
              "[5 rows x 17 columns]"
            ]
          },
          "metadata": {
            "tags": []
          }
        },
        {
          "output_type": "display_data",
          "data": {
            "text/plain": [
              "\"Your query returned 21 unique researchers. Download below if you'd like to see them all.\""
            ]
          },
          "metadata": {
            "tags": []
          }
        }
      ]
    },
    {
      "cell_type": "code",
      "metadata": {
        "id": "_9B5n8UPQXlf",
        "colab_type": "code",
        "colab": {}
      },
      "source": [
        "#add a toggle for less than or equal to, greater than or equal to, or qual to"
      ],
      "execution_count": 0,
      "outputs": []
    },
    {
      "cell_type": "markdown",
      "metadata": {
        "id": "yKDDXANM3RWp",
        "colab_type": "text"
      },
      "source": [
        "###Download full results of the above table as a csv file (can be directly imported into Google Sheets or excel)\n",
        "\n",
        "If you want to download the full resulting data table, you must put a \"#\" in front of \"%%script false --no-raise-error\" to comment it out\n",
        "\n",
        "Note: This cell will download the result from your most recent query. If you change the input to the widget above, you must re-run this cell to download a new file."
      ]
    },
    {
      "cell_type": "code",
      "metadata": {
        "id": "RGS_RbF63PeY",
        "colab_type": "code",
        "colab": {}
      },
      "source": [
        "#TO RUN THIS CELL, COMMENT THE NEXT LINE OUT\n",
        "%%script false --no-raise-error \n",
        "\n",
        "file_name = prepare_for_download(df, int_text.value)\n",
        "files.download(file_name) "
      ],
      "execution_count": 0,
      "outputs": []
    },
    {
      "cell_type": "markdown",
      "metadata": {
        "id": "4nwY5ZDc-D9-",
        "colab_type": "text"
      },
      "source": [
        "<a name=\"second-bullet\"></a> \n",
        "#By Count of a Single Venue"
      ]
    },
    {
      "cell_type": "markdown",
      "metadata": {
        "id": "ZocwGhrGB5ID",
        "colab_type": "text"
      },
      "source": [
        "(and sort high to low, or add toggle button) \n",
        "\n",
        "needs three widgets in a dashboard (gr,less than, menue, and number)\n",
        "\n",
        "(add toggle for less than of greater than)\n",
        "\n",
        "(add way to download csv)"
      ]
    },
    {
      "cell_type": "markdown",
      "metadata": {
        "id": "sc0RcZQvTxKM",
        "colab_type": "text"
      },
      "source": [
        "####Code (ignore)"
      ]
    },
    {
      "cell_type": "markdown",
      "metadata": {
        "id": "-2HkummWTzh3",
        "colab_type": "text"
      },
      "source": [
        "##Tool (Use this!)"
      ]
    },
    {
      "cell_type": "code",
      "metadata": {
        "id": "UuPuEWYb89By",
        "colab_type": "code",
        "colab": {
          "base_uri": "https://localhost:8080/",
          "height": 49,
          "referenced_widgets": [
            "10b8ac7e897c4539aac8c081b93cdf90",
            "2f945eb3f007425698c05f4c80847094",
            "b619741c16324b9aa98b2e59762a47be"
          ]
        },
        "outputId": "ba9f4ebe-39bc-4f2f-a1af-94eb2ce8713e"
      },
      "source": [
        "columns_list = df.columns.difference(['Year', 'Author', 'count']).values\n",
        "widgets.Dropdown(\n",
        "    options= columns_list,\n",
        "    description='Venue:',\n",
        "    disabled=False,\n",
        ")"
      ],
      "execution_count": 587,
      "outputs": [
        {
          "output_type": "display_data",
          "data": {
            "application/vnd.jupyter.widget-view+json": {
              "model_id": "10b8ac7e897c4539aac8c081b93cdf90",
              "version_minor": 0,
              "version_major": 2
            },
            "text/plain": [
              "Dropdown(description='Venue:', options=('CVPR', 'ECCV', 'ICCV', 'ICLR', 'ICML', 'ICRA', 'IJCAI', 'IROS', 'JMLR…"
            ]
          },
          "metadata": {
            "tags": []
          }
        }
      ]
    },
    {
      "cell_type": "code",
      "metadata": {
        "id": "RZLR48TzTwe4",
        "colab_type": "code",
        "colab": {}
      },
      "source": [
        ""
      ],
      "execution_count": 0,
      "outputs": []
    },
    {
      "cell_type": "markdown",
      "metadata": {
        "id": "lH5DIndCY8IV",
        "colab_type": "text"
      },
      "source": [
        "###Download full results of the above table as a csv file (can be directly imported into Google Sheets or excel)\n",
        "\n",
        "If you want to download the full resulting data table, put a \"#\" in front of \"%%script false --no-raise-error\" to comment it out\n",
        "\n",
        "Note: This cell will download the result from your most recent query. If you change the input to the widget above, you must re-run this cell to download a new file."
      ]
    },
    {
      "cell_type": "code",
      "metadata": {
        "id": "6IMAj49ER_ja",
        "colab_type": "code",
        "colab": {}
      },
      "source": [
        "#TO RUN THIS CELL, COMMENT THE NEXT LINE OUT\n",
        "%%script false --no-raise-error \n",
        "\n",
        "file_name = prepare_for_download(df, int_text.value)\n",
        "files.download(file_name) \n"
      ],
      "execution_count": 0,
      "outputs": []
    },
    {
      "cell_type": "markdown",
      "metadata": {
        "id": "nCsO5cw4DBPX",
        "colab_type": "text"
      },
      "source": [
        "<a name=\"third-bullet\"></a> \n",
        "#By Total Count in a Set of Venues"
      ]
    },
    {
      "cell_type": "markdown",
      "metadata": {
        "id": "jMbYkbH2E3MM",
        "colab_type": "text"
      },
      "source": [
        "\n",
        "(and sort high to low, or add toggle button) \n",
        "\n",
        "(add toggle for less than of greater than)\n",
        "\n",
        "(add way to download csv)\n"
      ]
    },
    {
      "cell_type": "code",
      "metadata": {
        "id": "bc4qUOUIC_Do",
        "colab_type": "code",
        "colab": {
          "base_uri": "https://localhost:8080/",
          "height": 111,
          "referenced_widgets": [
            "59d5224c8b884f2abcdc6239d92917f4",
            "df0d1fbadead4771b5b8236cd6334f0b",
            "c82dfaf0a2864b08a318068cba5ed04c"
          ]
        },
        "outputId": "4f65ef4e-d22e-4eb0-df01-4f19b21da703"
      },
      "source": [
        "widgets.SelectMultiple(\n",
        "    options= df.columns.difference(['Year', 'Author', 'count']).values, #get venues list here from dataframe programmatically\n",
        "    #value=['Oranges'], #NIPS\n",
        "    #rows=10,\n",
        "    description='Venue',\n",
        "    disabled=False\n",
        ")"
      ],
      "execution_count": 591,
      "outputs": [
        {
          "output_type": "display_data",
          "data": {
            "application/vnd.jupyter.widget-view+json": {
              "model_id": "59d5224c8b884f2abcdc6239d92917f4",
              "version_minor": 0,
              "version_major": 2
            },
            "text/plain": [
              "SelectMultiple(description='Venue', options=('CVPR', 'ECCV', 'ICCV', 'ICLR', 'ICML', 'ICRA', 'IJCAI', 'IROS', …"
            ]
          },
          "metadata": {
            "tags": []
          }
        }
      ]
    },
    {
      "cell_type": "markdown",
      "metadata": {
        "id": "joLLXmAOZBDN",
        "colab_type": "text"
      },
      "source": [
        "###Download full results of the above table as a csv file (can be directly imported into Google Sheets or excel)\n",
        "\n",
        "If you want to download the full resulting data table, put a \"#\" in front of \"%%script false --no-raise-error\" to comment it out\n",
        "\n",
        "Note: This cell will download the result from your most recent query. If you change the input to the widget above, you must re-run this cell to download a new file."
      ]
    },
    {
      "cell_type": "code",
      "metadata": {
        "id": "tcQ7MJ1yZKZl",
        "colab_type": "code",
        "colab": {}
      },
      "source": [
        "#TO RUN THIS CELL, COMMENT THE NEXT LINE OUT\n",
        "%%script false --no-raise-error \n",
        "\n",
        "file_name = prepare_for_download(df, int_text.value)\n",
        "files.download(file_name) "
      ],
      "execution_count": 0,
      "outputs": []
    },
    {
      "cell_type": "markdown",
      "metadata": {
        "id": "4diM7QpXFKBU",
        "colab_type": "text"
      },
      "source": [
        "<a name=\"fourth-bullet\"></a> \n",
        "#By Total Count in Two Sets of Venues"
      ]
    },
    {
      "cell_type": "code",
      "metadata": {
        "id": "vdjbVFvuFI8C",
        "colab_type": "code",
        "colab": {}
      },
      "source": [
        ""
      ],
      "execution_count": 0,
      "outputs": []
    },
    {
      "cell_type": "markdown",
      "metadata": {
        "id": "yB4XpaiTZDx6",
        "colab_type": "text"
      },
      "source": [
        "###Download full results of the above table as a csv file (can be directly imported into Google Sheets or excel)\n",
        "\n",
        "If you want to download the full resulting data table, put a \"#\" in front of \"%%script false --no-raise-error\" to comment it out\n",
        "\n",
        "Note: This cell will download the result from your most recent query. If you change the input to the widget above, you must re-run this cell to download a new file."
      ]
    },
    {
      "cell_type": "code",
      "metadata": {
        "id": "CRyN12xGZNKj",
        "colab_type": "code",
        "colab": {}
      },
      "source": [
        "#TO RUN THIS CELL, COMMENT THE NEXT LINE OUT\n",
        "%%script false --no-raise-error \n",
        "\n",
        "file_name = prepare_for_download(df, int_text.value)\n",
        "files.download(file_name) "
      ],
      "execution_count": 0,
      "outputs": []
    },
    {
      "cell_type": "markdown",
      "metadata": {
        "id": "6fwGt1TfGArp",
        "colab_type": "text"
      },
      "source": [
        "<a name=\"fifth-bullet\"></a> \n",
        "#By H-index\n",
        "(under construction)"
      ]
    }
  ]
}